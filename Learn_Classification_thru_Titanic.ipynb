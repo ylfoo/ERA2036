{
  "cells": [
    {
      "cell_type": "markdown",
      "metadata": {
        "id": "view-in-github",
        "colab_type": "text"
      },
      "source": [
        "<a href=\"https://colab.research.google.com/github/ylfoo/ERA2036/blob/main/Learn_Classification_thru_Titanic.ipynb\" target=\"_parent\"><img src=\"https://colab.research.google.com/assets/colab-badge.svg\" alt=\"Open In Colab\"/></a>"
      ]
    },
    {
      "cell_type": "markdown",
      "id": "eab9e2ed",
      "metadata": {
        "id": "eab9e2ed"
      },
      "source": [
        "### Example for Classification\n",
        "In this example, the modified Titanic dataset is used to construct two classifiers using k-Nearest Neighbours and Decision Tree to predict the survivality of the passengers.\n",
        "The modified Titanic dataset consists of the following columns:\n",
        "- Pclass - ticket class\n",
        "- Sex - gender of the passenger\n",
        "- Age - age of passenger\n",
        "- SibSp - number of siblings / spouses aboard the Titanic\n",
        "- Parch - number of parents / children aboard the Titanic\n",
        "- Fare - passenger fare\n",
        "- Survived - survival (0 = No, 1 = Yes)"
      ]
    },
    {
      "cell_type": "code",
      "execution_count": null,
      "id": "753ef08c",
      "metadata": {
        "id": "753ef08c"
      },
      "outputs": [],
      "source": [
        "# Import the necessary modules and packages\n",
        "import pandas as pd\n",
        "from sklearn.model_selection import train_test_split as split\n",
        "from sklearn.neighbors import KNeighborsClassifier\n",
        "from sklearn.tree import DecisionTreeClassifier"
      ]
    },
    {
      "cell_type": "code",
      "execution_count": null,
      "id": "52726f92",
      "metadata": {
        "id": "52726f92"
      },
      "outputs": [],
      "source": [
        "# load the dataset from CSV file\n",
        "df = pd.read_csv('titanic_demo.csv')"
      ]
    },
    {
      "cell_type": "code",
      "execution_count": null,
      "id": "f6cc6dcc",
      "metadata": {
        "id": "f6cc6dcc"
      },
      "outputs": [],
      "source": [
        "# Check the number of columns and rows\n",
        "df.info()"
      ]
    },
    {
      "cell_type": "code",
      "execution_count": null,
      "id": "bb19e3f1",
      "metadata": {
        "id": "bb19e3f1"
      },
      "outputs": [],
      "source": [
        "# Randomly view 5 data samples from the dataset\n",
        "df.sample(5)"
      ]
    },
    {
      "cell_type": "code",
      "execution_count": null,
      "id": "6f0d983c",
      "metadata": {
        "id": "6f0d983c"
      },
      "outputs": [],
      "source": [
        "# Check for missing data\n",
        "# if there is any missing data, they must be handled first\n",
        "df.isna().sum()"
      ]
    },
    {
      "cell_type": "code",
      "execution_count": null,
      "id": "85293f95",
      "metadata": {
        "id": "85293f95"
      },
      "outputs": [],
      "source": [
        "# Replace missing values with the median value\n",
        "df['Age'] = df['Age'].fillna(df['Age'].median())\n",
        "\n",
        "# Check whether there is any more missing data\n",
        "df.isna().sum()"
      ]
    },
    {
      "cell_type": "code",
      "execution_count": null,
      "id": "bcac23a7",
      "metadata": {
        "id": "bcac23a7"
      },
      "outputs": [],
      "source": [
        "# Calculate descriptive statistics\n",
        "df.describe()"
      ]
    },
    {
      "cell_type": "code",
      "execution_count": null,
      "id": "d8c3ee39",
      "metadata": {
        "id": "d8c3ee39"
      },
      "outputs": [],
      "source": [
        "# Apply one-hot encoding to convert nominal categorical data to numerical data\n",
        "df2 = pd.get_dummies(df, drop_first=True)\n",
        "df2.sample(5)"
      ]
    },
    {
      "cell_type": "code",
      "execution_count": null,
      "id": "5655d04b",
      "metadata": {
        "id": "5655d04b"
      },
      "outputs": [],
      "source": [
        "# Extract the \"charges\" column (targets) into y\n",
        "y = df2['Survived'].values\n",
        "\n",
        "# Delete the \"charges\" column\n",
        "del df2['Survived']\n",
        "\n",
        "# Extract the remaining columns (features) into X\n",
        "X = df2.values\n",
        "\n",
        "# Print the dimensions of X and y\n",
        "print(f\"Dimension of X: {X.shape}\")\n",
        "print(f\"Dimension of y: {y.shape}\")"
      ]
    },
    {
      "cell_type": "code",
      "execution_count": null,
      "id": "04e3a4a8",
      "metadata": {
        "id": "04e3a4a8"
      },
      "outputs": [],
      "source": [
        "# Split 75% of the dataset for training and the remaining 25% for testing\n",
        "X_train, X_test, y_train, y_test = split(X, y, test_size=0.25, random_state=42)\n",
        "\n",
        "# Print the number of data samples for training and testing\n",
        "print(f\"Number of data samples for training: {X_train.shape[0]}\")\n",
        "print(f\"Number of data samples for testing: {X_test.shape[0]}\")"
      ]
    },
    {
      "cell_type": "code",
      "execution_count": null,
      "id": "6090f83a",
      "metadata": {
        "id": "6090f83a"
      },
      "outputs": [],
      "source": [
        "# Train a k-NN model with the training data to predict the survivality of the passengers\n",
        "knn = KNeighborsClassifier().fit(X_train, y_train)\n",
        "\n",
        "# Evaluate the k-NN model with the testing data and print the accuracy\n",
        "print(f\"knn accuracy: {knn.score(X_test, y_test)}\")"
      ]
    },
    {
      "cell_type": "code",
      "execution_count": null,
      "id": "3636ec4a",
      "metadata": {
        "id": "3636ec4a"
      },
      "outputs": [],
      "source": [
        "# Train a decision tree model with the training data to predict the survivality of the passengers\n",
        "dtc = DecisionTreeClassifier(random_state=42).fit(X_train, y_train)\n",
        "\n",
        "# Evaluate the decision tree model with the testing data and print the accuracy\n",
        "print(f\"knn accuracy: {dtc.score(X_test, y_test)}\")"
      ]
    }
  ],
  "metadata": {
    "kernelspec": {
      "display_name": "Python 3 (ipykernel)",
      "language": "python",
      "name": "python3"
    },
    "language_info": {
      "codemirror_mode": {
        "name": "ipython",
        "version": 3
      },
      "file_extension": ".py",
      "mimetype": "text/x-python",
      "name": "python",
      "nbconvert_exporter": "python",
      "pygments_lexer": "ipython3",
      "version": "3.10.11"
    },
    "colab": {
      "provenance": [],
      "include_colab_link": true
    }
  },
  "nbformat": 4,
  "nbformat_minor": 5
}