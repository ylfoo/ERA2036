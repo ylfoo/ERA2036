{
  "cells": [
    {
      "cell_type": "markdown",
      "metadata": {
        "id": "view-in-github",
        "colab_type": "text"
      },
      "source": [
        "<a href=\"https://colab.research.google.com/github/ylfoo/ERA2036/blob/main/Learn_Regression_fr_Insurance.ipynb\" target=\"_parent\"><img src=\"https://colab.research.google.com/assets/colab-badge.svg\" alt=\"Open In Colab\"/></a>"
      ]
    },
    {
      "cell_type": "markdown",
      "id": "21d184a4",
      "metadata": {
        "id": "21d184a4"
      },
      "source": [
        "### Example for Regression\n",
        "In this example, a linear regression model is built to predict the insurance charges.\n",
        "The dataset consists of the following columns:\n",
        "- age - age of primary beneficiary\n",
        "- sex - insurance contractor gender, female, male\n",
        "- bmi - Body mass index, providing an understanding of body, weights that are relatively high or low relative to height\n",
        "- children - Number of children / Number of dependents\n",
        "- smoker - Smoking\n",
        "- region - the beneficiary's residential area in the US, northeast, southeast, southwest, northwest.\n",
        "- charges - Individual medical costs billed by health insurance"
      ]
    },
    {
      "cell_type": "code",
      "execution_count": null,
      "id": "eed2ceb5",
      "metadata": {
        "id": "eed2ceb5"
      },
      "outputs": [],
      "source": [
        "# Import the necessary modules and packages\n",
        "import pandas as pd\n",
        "from sklearn.preprocessing import MinMaxScaler\n",
        "from sklearn.model_selection import train_test_split as split\n",
        "from sklearn.linear_model import LinearRegression"
      ]
    },
    {
      "cell_type": "code",
      "execution_count": null,
      "id": "a4fa892b",
      "metadata": {
        "id": "a4fa892b"
      },
      "outputs": [],
      "source": [
        "# Load the dataset from CSV file\n",
        "df = pd.read_csv('https://raw.githubusercontent.com/wooihaw/ERA2036_T2230/main/Chapter_4/insurance.csv')"
      ]
    },
    {
      "cell_type": "code",
      "execution_count": null,
      "id": "17e1861e",
      "metadata": {
        "id": "17e1861e"
      },
      "outputs": [],
      "source": [
        "# Check the number of columns and rows\n",
        "df.info()"
      ]
    },
    {
      "cell_type": "code",
      "execution_count": null,
      "id": "3cd4d62d",
      "metadata": {
        "id": "3cd4d62d"
      },
      "outputs": [],
      "source": [
        "# Randomly view 5 data samples from the dataset\n",
        "df.sample(5)"
      ]
    },
    {
      "cell_type": "code",
      "execution_count": null,
      "id": "9c3ab420",
      "metadata": {
        "id": "9c3ab420"
      },
      "outputs": [],
      "source": [
        "# Check for missing data\n",
        "# if there is any missing data, they must be handled first\n",
        "df.isna().sum()"
      ]
    },
    {
      "cell_type": "code",
      "execution_count": null,
      "id": "f55cc991",
      "metadata": {
        "id": "f55cc991"
      },
      "outputs": [],
      "source": [
        "# Calculate descriptive statistics\n",
        "df.describe()"
      ]
    },
    {
      "cell_type": "code",
      "execution_count": null,
      "id": "75ac5ec4",
      "metadata": {
        "id": "75ac5ec4"
      },
      "outputs": [],
      "source": [
        "# Apply one-hot encoding to convert nominal categorical data to numerical data\n",
        "df2 = pd.get_dummies(df)\n",
        "df2.sample(5)"
      ]
    },
    {
      "cell_type": "code",
      "execution_count": null,
      "id": "d4b5019d",
      "metadata": {
        "id": "d4b5019d"
      },
      "outputs": [],
      "source": [
        "# Extract the \"charges\" column (targets) into y\n",
        "y = df2['charges'].values\n",
        "\n",
        "# Delete the \"charges\" column\n",
        "del df2['charges']\n",
        "\n",
        "# Extract the remaining columns (features) into X\n",
        "X = df2.values\n",
        "\n",
        "# Print the dimensions of X and y\n",
        "print(f\"Dimension of X: {X.shape}\")\n",
        "print(f\"Dimension of y: {y.shape}\")"
      ]
    },
    {
      "cell_type": "code",
      "execution_count": null,
      "id": "fdfe58f4",
      "metadata": {
        "id": "fdfe58f4"
      },
      "outputs": [],
      "source": [
        "# Split 80% of the dataset for training and the remaining 20% for testing\n",
        "X_train, X_test, y_train, y_test = split(X, y, test_size=0.2, random_state=42)\n",
        "\n",
        "# Print the number of data samples for training and testing\n",
        "print(f\"Number of data samples for training: {X_train.shape[0]}\")\n",
        "print(f\"Number of data samples for testing: {X_test.shape[0]}\")"
      ]
    },
    {
      "cell_type": "code",
      "execution_count": null,
      "id": "46e970f9",
      "metadata": {
        "id": "46e970f9"
      },
      "outputs": [],
      "source": [
        "# Train a linear regression model with the training data to predict the insurance charges\n",
        "lnr = LinearRegression().fit(X_train, y_train)\n",
        "\n",
        "# Evaluate the linear regression model with the testing data and print the R2 score\n",
        "print(f\"lnr R2 score: {lnr.score(X_test, y_test)}\")"
      ]
    }
  ],
  "metadata": {
    "kernelspec": {
      "display_name": "Python 3 (ipykernel)",
      "language": "python",
      "name": "python3"
    },
    "language_info": {
      "codemirror_mode": {
        "name": "ipython",
        "version": 3
      },
      "file_extension": ".py",
      "mimetype": "text/x-python",
      "name": "python",
      "nbconvert_exporter": "python",
      "pygments_lexer": "ipython3",
      "version": "3.10.11"
    },
    "colab": {
      "provenance": [],
      "include_colab_link": true
    }
  },
  "nbformat": 4,
  "nbformat_minor": 5
}