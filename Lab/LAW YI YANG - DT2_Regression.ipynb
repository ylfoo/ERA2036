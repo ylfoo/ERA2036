{
 "cells": [
  {
   "cell_type": "markdown",
   "id": "42a26803",
   "metadata": {},
   "source": [
    "# Law Yi Yang 1211103709"
   ]
  },
  {
   "cell_type": "code",
   "execution_count": 1,
   "id": "e24a7fc4",
   "metadata": {},
   "outputs": [
    {
     "name": "stdout",
     "output_type": "stream",
     "text": [
      "(10000, 3)\n",
      "      Gender  Height  Weight\n",
      "2642    Male   172.1    78.3\n",
      "9466  Female   155.6    49.8\n",
      "3256    Male   184.0    90.8\n",
      "6176  Female   163.3    55.0\n",
      "6003  Female   165.3    62.4\n",
      "5416    Male   179.0    90.0\n",
      "4199    Male   177.2    92.6\n",
      "7301    Male   171.4    82.0\n",
      "1802    Male   174.8    86.5\n",
      "3502  Female   157.7    51.1\n",
      "             Height        Weight\n",
      "count  10000.000000  10000.000000\n",
      "mean     168.573940     73.228260\n",
      "std        9.772842     14.563851\n",
      "min      137.800000     29.300000\n",
      "25%      161.300000     61.600000\n",
      "50%      168.400000     73.100000\n",
      "75%      175.700000     84.900000\n",
      "max      200.700000    122.500000\n"
     ]
    }
   ],
   "source": [
    "# Regression model to use height to predict weight\n",
    "# Load modules and packages\n",
    "import pandas as pd\n",
    "from sklearn.model_selection import train_test_split as split\n",
    "from sklearn.linear_model import LinearRegression\n",
    "# Load dataset\n",
    "file = 'https://raw.githubusercontent.com/wooihaw/datasets/main/genders_heights_weights.csv'\n",
    "df = pd.read_csv(file)\n",
    "# Dimension of dataset\n",
    "print(df.shape)\n",
    "# preview 10 lines of data\n",
    "print(df.sample(10))\n",
    "# Descriptive statistics\n",
    "print(df.describe())\n",
    "# Split dataset into training and testing sets\n",
    "X = df.drop(columns=['Gender', 'Weight'])\n",
    "\n",
    "y = df['Weight']\n",
    "X_train, X_test, y_train, y_test = split(X, y, test_size=0.25, random_state=42)\n"
   ]
  },
  {
   "cell_type": "code",
   "execution_count": 2,
   "id": "0094b498",
   "metadata": {},
   "outputs": [
    {
     "name": "stdout",
     "output_type": "stream",
     "text": [
      "Training set dimensions: (7500, 1)\n",
      "Testing set dimensions: (2500, 1)\n"
     ]
    }
   ],
   "source": [
    "print(\"Training set dimensions:\", X_train.shape)\n",
    "print(\"Testing set dimensions:\", X_test.shape)\n"
   ]
  },
  {
   "cell_type": "code",
   "execution_count": 3,
   "id": "23d1fad8",
   "metadata": {},
   "outputs": [
    {
     "name": "stdout",
     "output_type": "stream",
     "text": [
      "model R2 score: 0.8590692022607564\n"
     ]
    }
   ],
   "source": [
    "# Initialize the linear regression model\n",
    "model = LinearRegression()\n",
    "\n",
    "# Fit the model to the training data\n",
    "model.fit(X_train, y_train)\n",
    "\n",
    "\n",
    "# Evaluate the model's performance (you can choose your own evaluation metric, e.g., Mean Squared Error)\n",
    "\n",
    "print(f\"model R2 score: {model.score(X_test, y_test)}\")\n"
   ]
  },
  {
   "cell_type": "code",
   "execution_count": 4,
   "id": "a117b29f",
   "metadata": {},
   "outputs": [],
   "source": [
    "# Encode gender using one-hot encoding\n",
    "df = pd.get_dummies(df, columns=['Gender'])\n"
   ]
  },
  {
   "cell_type": "code",
   "execution_count": 5,
   "id": "d4a4a498",
   "metadata": {},
   "outputs": [],
   "source": [
    "X = df.drop(columns=['Weight']).values\n",
    "y = df['Weight'].values\n",
    "X_train, X_test, y_train, y_test = split(X, y, test_size=0.25, random_state=42)\n"
   ]
  },
  {
   "cell_type": "code",
   "execution_count": 6,
   "id": "c965e89e",
   "metadata": {},
   "outputs": [
    {
     "name": "stdout",
     "output_type": "stream",
     "text": [
      "model R2 score with gender: 0.9057030207072474\n"
     ]
    }
   ],
   "source": [
    "# Initialize a new linear regression model\n",
    "model_with_gender = LinearRegression()\n",
    "\n",
    "# Fit the model to the training data\n",
    "model_with_gender.fit(X_train, y_train)\n",
    "\n",
    "# Evaluate the new model's performance\n",
    "\n",
    "print(f\"model R2 score with gender: {model_with_gender.score(X_test, y_test)}\")\n"
   ]
  },
  {
   "cell_type": "markdown",
   "id": "af38804f",
   "metadata": {},
   "source": [
    "# The value of R2(performance and accuracy) for model with gender is higher than model without gender.The reason is because model with more features is more complete and will be better for the prediction. The overfitting and underfitting can be avoided by adding more relevant features."
   ]
  },
  {
   "cell_type": "code",
   "execution_count": null,
   "id": "e482046c",
   "metadata": {},
   "outputs": [],
   "source": []
  }
 ],
 "metadata": {
  "kernelspec": {
   "display_name": "Python 3 (ipykernel)",
   "language": "python",
   "name": "python3"
  },
  "language_info": {
   "codemirror_mode": {
    "name": "ipython",
    "version": 3
   },
   "file_extension": ".py",
   "mimetype": "text/x-python",
   "name": "python",
   "nbconvert_exporter": "python",
   "pygments_lexer": "ipython3",
   "version": "3.9.13"
  }
 },
 "nbformat": 4,
 "nbformat_minor": 5
}
