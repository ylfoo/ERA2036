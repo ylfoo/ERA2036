{
  "cells": [
    {
      "cell_type": "markdown",
      "metadata": {
        "id": "view-in-github",
        "colab_type": "text"
      },
      "source": [
        "<a href=\"https://colab.research.google.com/github/ylfoo/ERA2036/blob/main/Lab/Learn_Regression_thru_Gender.ipynb\" target=\"_parent\"><img src=\"https://colab.research.google.com/assets/colab-badge.svg\" alt=\"Open In Colab\"/></a>"
      ]
    },
    {
      "cell_type": "markdown",
      "id": "42a26803",
      "metadata": {
        "id": "42a26803"
      },
      "source": [
        "Credit to Law Yi Yang   \n",
        "Regression model to use height to predict weight"
      ]
    },
    {
      "cell_type": "code",
      "execution_count": null,
      "id": "e24a7fc4",
      "metadata": {
        "id": "e24a7fc4",
        "outputId": "24653ea7-a022-4ff9-8278-195e56763d47"
      },
      "outputs": [
        {
          "name": "stdout",
          "output_type": "stream",
          "text": [
            "(10000, 3)\n",
            "      Gender  Height  Weight\n",
            "2642    Male   172.1    78.3\n",
            "9466  Female   155.6    49.8\n",
            "3256    Male   184.0    90.8\n",
            "6176  Female   163.3    55.0\n",
            "6003  Female   165.3    62.4\n",
            "5416    Male   179.0    90.0\n",
            "4199    Male   177.2    92.6\n",
            "7301    Male   171.4    82.0\n",
            "1802    Male   174.8    86.5\n",
            "3502  Female   157.7    51.1\n",
            "             Height        Weight\n",
            "count  10000.000000  10000.000000\n",
            "mean     168.573940     73.228260\n",
            "std        9.772842     14.563851\n",
            "min      137.800000     29.300000\n",
            "25%      161.300000     61.600000\n",
            "50%      168.400000     73.100000\n",
            "75%      175.700000     84.900000\n",
            "max      200.700000    122.500000\n"
          ]
        }
      ],
      "source": [
        "# Load modules and packages\n",
        "import pandas as pd\n",
        "from sklearn.model_selection import train_test_split as split\n",
        "from sklearn.linear_model import LinearRegression"
      ]
    },
    {
      "cell_type": "code",
      "source": [
        "# Load dataset\n",
        "file = 'https://raw.githubusercontent.com/wooihaw/datasets/main/genders_heights_weights.csv'\n",
        "df = pd.read_csv(file)"
      ],
      "metadata": {
        "id": "wfo3Dd2ljQP-"
      },
      "id": "wfo3Dd2ljQP-",
      "execution_count": null,
      "outputs": []
    },
    {
      "cell_type": "code",
      "source": [
        "# Dimension of dataset\n",
        "print(df.shape)"
      ],
      "metadata": {
        "id": "0yTStKv5jpY9"
      },
      "id": "0yTStKv5jpY9",
      "execution_count": null,
      "outputs": []
    },
    {
      "cell_type": "code",
      "source": [
        "# Preview 10 lines of data\n",
        "print(df.sample(10))"
      ],
      "metadata": {
        "id": "Ax9LkWiojriN"
      },
      "id": "Ax9LkWiojriN",
      "execution_count": null,
      "outputs": []
    },
    {
      "cell_type": "code",
      "source": [
        "# Descriptive statistics\n",
        "print(df.describe())"
      ],
      "metadata": {
        "id": "MnaZZ77Hju4l"
      },
      "id": "MnaZZ77Hju4l",
      "execution_count": null,
      "outputs": []
    },
    {
      "cell_type": "code",
      "source": [
        "# Split dataset into training and testing sets\n",
        "X = df.drop(columns=['Gender', 'Weight'])\n",
        "y = df['Weight']\n",
        "X_train, X_test, y_train, y_test = split(X, y, test_size=0.25, random_state=42)"
      ],
      "metadata": {
        "id": "fGSpab-vjxlV"
      },
      "id": "fGSpab-vjxlV",
      "execution_count": null,
      "outputs": []
    },
    {
      "cell_type": "code",
      "execution_count": null,
      "id": "0094b498",
      "metadata": {
        "id": "0094b498",
        "outputId": "6f062aa1-7867-4d34-896e-e4557314a72d"
      },
      "outputs": [
        {
          "name": "stdout",
          "output_type": "stream",
          "text": [
            "Training set dimensions: (7500, 1)\n",
            "Testing set dimensions: (2500, 1)\n"
          ]
        }
      ],
      "source": [
        "print(\"Training set dimensions:\", X_train.shape)\n",
        "print(\"Testing set dimensions:\", X_test.shape)"
      ]
    },
    {
      "cell_type": "code",
      "execution_count": null,
      "id": "23d1fad8",
      "metadata": {
        "id": "23d1fad8",
        "outputId": "5f6544f1-b643-4448-cdda-812f4bfb9355"
      },
      "outputs": [
        {
          "name": "stdout",
          "output_type": "stream",
          "text": [
            "model R2 score: 0.8590692022607564\n"
          ]
        }
      ],
      "source": [
        "# Initialize the linear regression model\n",
        "model = LinearRegression()\n",
        "\n",
        "# Fit the model to the training data\n",
        "model.fit(X_train, y_train)\n",
        "\n",
        "# Evaluate the model's performance (you can choose your own evaluation metric, e.g., Mean Squared Error)\n",
        "print(f\"model R2 score: {model.score(X_test, y_test)}\")"
      ]
    },
    {
      "cell_type": "code",
      "execution_count": null,
      "id": "a117b29f",
      "metadata": {
        "id": "a117b29f"
      },
      "outputs": [],
      "source": [
        "# Encode gender using one-hot encoding\n",
        "df = pd.get_dummies(df, columns=['Gender'])"
      ]
    },
    {
      "cell_type": "code",
      "execution_count": null,
      "id": "d4a4a498",
      "metadata": {
        "id": "d4a4a498"
      },
      "outputs": [],
      "source": [
        "X = df.drop(columns=['Weight']).values\n",
        "y = df['Weight'].values\n",
        "X_train, X_test, y_train, y_test = split(X, y, test_size=0.25, random_state=42)"
      ]
    },
    {
      "cell_type": "code",
      "execution_count": null,
      "id": "c965e89e",
      "metadata": {
        "id": "c965e89e",
        "outputId": "480e7829-22b3-4679-c349-19a8efce60b7"
      },
      "outputs": [
        {
          "name": "stdout",
          "output_type": "stream",
          "text": [
            "model R2 score with gender: 0.9057030207072474\n"
          ]
        }
      ],
      "source": [
        "# Initialize a new linear regression model\n",
        "model_with_gender = LinearRegression()\n",
        "\n",
        "# Fit the model to the training data\n",
        "model_with_gender.fit(X_train, y_train)\n",
        "\n",
        "# Evaluate the new model's performance\n",
        "print(f\"model R2 score with gender: {model_with_gender.score(X_test, y_test)}\")"
      ]
    },
    {
      "cell_type": "markdown",
      "id": "af38804f",
      "metadata": {
        "id": "af38804f"
      },
      "source": [
        "The value of R2 (performance and accuracy) for model with gender is higher than model without gender.The reason is because model with more features is more comprehensive and better for the prediction. The overfitting and underfitting can be avoided by adding more relevant features."
      ]
    }
  ],
  "metadata": {
    "kernelspec": {
      "display_name": "Python 3 (ipykernel)",
      "language": "python",
      "name": "python3"
    },
    "language_info": {
      "codemirror_mode": {
        "name": "ipython",
        "version": 3
      },
      "file_extension": ".py",
      "mimetype": "text/x-python",
      "name": "python",
      "nbconvert_exporter": "python",
      "pygments_lexer": "ipython3",
      "version": "3.9.13"
    },
    "colab": {
      "provenance": [],
      "include_colab_link": true
    }
  },
  "nbformat": 4,
  "nbformat_minor": 5
}